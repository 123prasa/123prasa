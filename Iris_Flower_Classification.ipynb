{
  "nbformat": 4,
  "nbformat_minor": 0,
  "metadata": {
    "colab": {
      "provenance": [],
      "authorship_tag": "ABX9TyOcpHJtghVqM/M3FxXf5vqQ",
      "include_colab_link": true
    },
    "kernelspec": {
      "name": "python3",
      "display_name": "Python 3"
    },
    "language_info": {
      "name": "python"
    }
  },
  "cells": [
    {
      "cell_type": "markdown",
      "metadata": {
        "id": "view-in-github",
        "colab_type": "text"
      },
      "source": [
        "<a href=\"https://colab.research.google.com/github/123prasa/123prasa/blob/main/Iris_Flower_Classification.ipynb\" target=\"_parent\"><img src=\"https://colab.research.google.com/assets/colab-badge.svg\" alt=\"Open In Colab\"/></a>"
      ]
    },
    {
      "cell_type": "code",
      "execution_count": 1,
      "metadata": {
        "id": "ujP3OBZOm6g0"
      },
      "outputs": [],
      "source": [
        "import warnings\n",
        "warnings.filterwarnings('ignore')\n",
        "\n",
        "import pandas as pd\n",
        "import matplotlib.pyplot as plt\n",
        "%matplotlib inline\n",
        "import seaborn as sns\n",
        "sns.set(style=\"white\", color_codes=True)"
      ]
    },
    {
      "cell_type": "code",
      "source": [
        "iris = pd.read_csv(\"IRIS.csv\")\n",
        "iris.head()"
      ],
      "metadata": {
        "id": "7hQ97c2knVwe"
      },
      "execution_count": null,
      "outputs": []
    },
    {
      "cell_type": "code",
      "source": [
        "iris[\"Species\"].value_counts()"
      ],
      "metadata": {
        "colab": {
          "base_uri": "https://localhost:8080/"
        },
        "id": "k4RuVh_-nfMh",
        "outputId": "8f388b33-5977-40dd-da09-87a0ab46e86c"
      },
      "execution_count": 4,
      "outputs": [
        {
          "output_type": "execute_result",
          "data": {
            "text/plain": [
              "setosa        50\n",
              "versicolor    50\n",
              "virginica     50\n",
              "Name: Species, dtype: int64"
            ]
          },
          "metadata": {},
          "execution_count": 4
        }
      ]
    },
    {
      "cell_type": "markdown",
      "source": [
        "**Scatter Plot**"
      ],
      "metadata": {
        "id": "LpsrDqHvntof"
      }
    },
    {
      "cell_type": "code",
      "source": [
        "sns.FacetGrid(iris, hue=\"Species\",height=6).map(plt.scatter, \"Petal.Length\", \"Sepal.Width\").add_legend()"
      ],
      "metadata": {
        "id": "WENrDE-In0Cy"
      },
      "execution_count": null,
      "outputs": []
    },
    {
      "cell_type": "markdown",
      "source": [
        "**Logistic Regression**"
      ],
      "metadata": {
        "id": "gskJSak9oDUh"
      }
    },
    {
      "cell_type": "markdown",
      "source": [
        "Converting categorical varibales into numbers"
      ],
      "metadata": {
        "id": "RttTTREzoGMi"
      }
    },
    {
      "cell_type": "code",
      "source": [
        "flower_mapping = {'setosa': 0,'versicolor': 1,'virginica':2}\n",
        "iris[\"Species\"] = iris[\"Species\"].map(flower_mapping)"
      ],
      "metadata": {
        "id": "Rjf52ZoSoLPK"
      },
      "execution_count": 6,
      "outputs": []
    },
    {
      "cell_type": "code",
      "source": [
        "iris.head()"
      ],
      "metadata": {
        "id": "2hkyQmfvoPFn"
      },
      "execution_count": null,
      "outputs": []
    },
    {
      "cell_type": "markdown",
      "source": [
        "****\n",
        "**Preparing inputs and outputs**"
      ],
      "metadata": {
        "id": "3d0GwLdhoXJU"
      }
    },
    {
      "cell_type": "code",
      "source": [
        "X=iris[['Sepal.Length','Sepal.Width','Petal.Length','Petal.Width']].values\n",
        "y=iris[['Species']].values"
      ],
      "metadata": {
        "id": "T761Mv5sodnk"
      },
      "execution_count": 8,
      "outputs": []
    },
    {
      "cell_type": "markdown",
      "source": [
        "**Logistic Regression**"
      ],
      "metadata": {
        "id": "u5ir-zC3ojyw"
      }
    },
    {
      "cell_type": "code",
      "source": [
        "from sklearn.linear_model import LogisticRegression"
      ],
      "metadata": {
        "id": "4j4tesNHomE5"
      },
      "execution_count": 9,
      "outputs": []
    },
    {
      "cell_type": "code",
      "source": [
        "model = LogisticRegression()"
      ],
      "metadata": {
        "id": "Y2XyFFfvoqpT"
      },
      "execution_count": 10,
      "outputs": []
    },
    {
      "cell_type": "code",
      "source": [
        "model.fit(X, y)"
      ],
      "metadata": {
        "id": "w7JzvxTuoqMc"
      },
      "execution_count": null,
      "outputs": []
    },
    {
      "cell_type": "markdown",
      "source": [
        "**Accuracy**"
      ],
      "metadata": {
        "id": "zLzYFJJfo4OH"
      }
    },
    {
      "cell_type": "code",
      "source": [
        "model.score(X,y)"
      ],
      "metadata": {
        "id": "UycTi9Vzo6xr"
      },
      "execution_count": null,
      "outputs": []
    },
    {
      "cell_type": "markdown",
      "source": [
        "**Make Predictions**"
      ],
      "metadata": {
        "id": "L7T7tg-xpHIO"
      }
    },
    {
      "cell_type": "code",
      "source": [
        "expected = y\n",
        "predicted = model.predict(X)\n",
        "predicted"
      ],
      "metadata": {
        "id": "70sds5vTpJT7"
      },
      "execution_count": null,
      "outputs": []
    },
    {
      "cell_type": "markdown",
      "source": [
        "**summarize the fit of the model**"
      ],
      "metadata": {
        "id": "rjQTyPVXpTht"
      }
    },
    {
      "cell_type": "code",
      "source": [
        "from sklearn import metrics\n",
        "print(metrics.classification_report(expected, predicted))"
      ],
      "metadata": {
        "id": "DQiasCZTpWwB"
      },
      "execution_count": null,
      "outputs": []
    },
    {
      "cell_type": "code",
      "source": [
        "print(metrics.confusion_matrix(expected, predicted))"
      ],
      "metadata": {
        "id": "lHH-Cxi3pfyD"
      },
      "execution_count": null,
      "outputs": []
    },
    {
      "cell_type": "markdown",
      "source": [
        "**Regularization**"
      ],
      "metadata": {
        "id": "2lgoR6VypwVT"
      }
    },
    {
      "cell_type": "code",
      "source": [
        "model = LogisticRegression(C=20,penalty='l2' )\n",
        "model.fit(X,y)"
      ],
      "metadata": {
        "id": "0JqAfcozp0f1"
      },
      "execution_count": null,
      "outputs": []
    },
    {
      "cell_type": "code",
      "source": [
        "model.score(X,y)"
      ],
      "metadata": {
        "colab": {
          "base_uri": "https://localhost:8080/"
        },
        "id": "LjVSR3tWq3cO",
        "outputId": "d1f04672-10f3-48ef-f232-8c69bdd45d50"
      },
      "execution_count": 17,
      "outputs": [
        {
          "output_type": "execute_result",
          "data": {
            "text/plain": [
              "0.98"
            ]
          },
          "metadata": {},
          "execution_count": 17
        }
      ]
    },
    {
      "cell_type": "markdown",
      "source": [
        "**Effect of Regularization on classification boundary**"
      ],
      "metadata": {
        "id": "lhpkezk0q8X6"
      }
    },
    {
      "cell_type": "code",
      "source": [
        "from sklearn import linear_model, datasets\n",
        "import numpy as np"
      ],
      "metadata": {
        "id": "VlwHDe3Tq_Nw"
      },
      "execution_count": 18,
      "outputs": []
    }
  ]
}